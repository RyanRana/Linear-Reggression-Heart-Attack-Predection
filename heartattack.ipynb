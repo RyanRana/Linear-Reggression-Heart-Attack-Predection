{
 "cells": [
  {
   "cell_type": "code",
   "execution_count": 1,
   "metadata": {
    "execution": {
     "iopub.execute_input": "2021-06-23T09:05:03.752246Z",
     "iopub.status.busy": "2021-06-23T09:05:03.750542Z",
     "iopub.status.idle": "2021-06-23T09:05:05.246885Z",
     "shell.execute_reply": "2021-06-23T09:05:05.246334Z",
     "shell.execute_reply.started": "2021-06-22T05:33:45.597638Z"
    },
    "papermill": {
     "duration": 1.559911,
     "end_time": "2021-06-23T09:05:05.247017",
     "exception": false,
     "start_time": "2021-06-23T09:05:03.687106",
     "status": "completed"
    },
    "tags": []
   },
   "outputs": [],
   "source": [
    "import pandas as pd\n",
    "import numpy as np\n",
    "import matplotlib.pyplot as plt\n",
    "import seaborn as sns\n",
    "\n",
    "from sklearn.model_selection import train_test_split\n",
    "from sklearn.metrics import mean_absolute_error, accuracy_score, roc_curve, plot_confusion_matrix\n",
    "from sklearn.linear_model import LogisticRegression\n",
    "from sklearn.tree import DecisionTreeClassifier\n",
    "from sklearn.ensemble import RandomForestClassifier\n",
    "from sklearn.ensemble import GradientBoostingClassifier\n",
    "\n",
    "import warnings\n",
    "warnings.filterwarnings(\"ignore\")"
   ]
  },
  {
   "cell_type": "code",
   "execution_count": 2,
   "metadata": {
    "execution": {
     "iopub.execute_input": "2021-06-23T09:05:05.388444Z",
     "iopub.status.busy": "2021-06-23T09:05:05.387982Z",
     "iopub.status.idle": "2021-06-23T09:05:05.404893Z",
     "shell.execute_reply": "2021-06-23T09:05:05.404451Z",
     "shell.execute_reply.started": "2021-06-22T05:35:01.826742Z"
    },
    "papermill": {
     "duration": 0.054497,
     "end_time": "2021-06-23T09:05:05.405009",
     "exception": false,
     "start_time": "2021-06-23T09:05:05.350512",
     "status": "completed"
    },
    "tags": []
   },
   "outputs": [],
   "source": [
    "full_data = pd.read_csv(\"/heart.csv\")"
   ]
  },
  {
   "cell_type": "code",
   "execution_count": 5,
   "metadata": {
    "execution": {
     "iopub.execute_input": "2021-06-23T09:05:06.221638Z",
     "iopub.status.busy": "2021-06-23T09:05:06.221144Z",
     "iopub.status.idle": "2021-06-23T09:05:06.224676Z",
     "shell.execute_reply": "2021-06-23T09:05:06.224244Z",
     "shell.execute_reply.started": "2021-06-18T05:38:46.569847Z"
    },
    "papermill": {
     "duration": 0.062323,
     "end_time": "2021-06-23T09:05:06.224817",
     "exception": false,
     "start_time": "2021-06-23T09:05:06.162494",
     "status": "completed"
    },
    "tags": []
   },
   "outputs": [],
   "source": [
    "# Creating function for outlier check\n",
    "def outlier_check(var):\n",
    "    sns.displot(data = full_data, x = var)\n",
    "    print('Variable: ', var) \n",
    "    print('Minimum value: ', full_data[var].min())\n",
    "    print('1st percentile: ', full_data[var].quantile(0.01))\n",
    "    print('99th percentile: ', full_data[var].quantile(0.99))\n",
    "    print('Maximum value: ', full_data[var].max())\n",
    "\n",
    "# Outlier treatment, sets minimum value to 1st percentile or maximum value to 99th percentile.\n",
    "def outlier_treatment(var, min_treat, max_treat):\n",
    "    min = full_data[var].quantile(0.01)\n",
    "    max = full_data[var].quantile(0.99)\n",
    "    if min_treat == 1:\n",
    "        full_data.loc[full_data[var] <= min, var] =  min\n",
    "    if max_treat == 1:\n",
    "        full_data.loc[full_data[var] >= max, var] =  max\n"
   ]
  },
  {
   "cell_type": "code",
   "execution_count": 1,
   "metadata": {
    "execution": {
     "iopub.execute_input": "2021-06-23T09:05:06.459569Z",
     "iopub.status.busy": "2021-06-23T09:05:06.459067Z",
     "iopub.status.idle": "2021-06-23T09:05:06.685733Z",
     "shell.execute_reply": "2021-06-23T09:05:06.686245Z",
     "shell.execute_reply.started": "2021-06-18T05:38:50.55192Z"
    },
    "papermill": {
     "duration": 0.288135,
     "end_time": "2021-06-23T09:05:06.686426",
     "exception": false,
     "start_time": "2021-06-23T09:05:06.398291",
     "status": "completed"
    },
    "tags": []
   },
   "outputs": [
    {
     "ename": "NameError",
     "evalue": "name 'outlier_check' is not defined",
     "output_type": "error",
     "traceback": [
      "\u001b[0;31m---------------------------------------------------------------------------\u001b[0m",
      "\u001b[0;31mNameError\u001b[0m                                 Traceback (most recent call last)",
      "\u001b[0;32m<ipython-input-1-9c590d8e65f4>\u001b[0m in \u001b[0;36m<module>\u001b[0;34m\u001b[0m\n\u001b[0;32m----> 1\u001b[0;31m \u001b[0moutlier_check\u001b[0m\u001b[0;34m(\u001b[0m\u001b[0;34m'age'\u001b[0m\u001b[0;34m)\u001b[0m\u001b[0;34m\u001b[0m\u001b[0;34m\u001b[0m\u001b[0m\n\u001b[0m\u001b[1;32m      2\u001b[0m \u001b[0moutlier_treatment\u001b[0m\u001b[0;34m(\u001b[0m\u001b[0;34m'age'\u001b[0m\u001b[0;34m,\u001b[0m \u001b[0mmin_treat\u001b[0m \u001b[0;34m=\u001b[0m \u001b[0;36m1\u001b[0m\u001b[0;34m,\u001b[0m \u001b[0mmax_treat\u001b[0m \u001b[0;34m=\u001b[0m \u001b[0;36m0\u001b[0m\u001b[0;34m)\u001b[0m\u001b[0;34m\u001b[0m\u001b[0;34m\u001b[0m\u001b[0m\n",
      "\u001b[0;31mNameError\u001b[0m: name 'outlier_check' is not defined"
     ]
    }
   ],
   "source": [
    "outlier_check('age')\n",
    "outlier_treatment('age', min_treat = 1, max_treat = 0)"
   ]
  },
  {
   "cell_type": "code",
   "execution_count": 2,
   "metadata": {
    "execution": {
     "iopub.execute_input": "2021-06-23T09:05:07.015954Z",
     "iopub.status.busy": "2021-06-23T09:05:07.015256Z",
     "iopub.status.idle": "2021-06-23T09:05:07.202692Z",
     "shell.execute_reply": "2021-06-23T09:05:07.203295Z",
     "shell.execute_reply.started": "2021-06-18T05:38:53.926892Z"
    },
    "papermill": {
     "duration": 0.245535,
     "end_time": "2021-06-23T09:05:07.203466",
     "exception": false,
     "start_time": "2021-06-23T09:05:06.957931",
     "status": "completed"
    },
    "tags": []
   },
   "outputs": [
    {
     "ename": "NameError",
     "evalue": "name 'outlier_check' is not defined",
     "output_type": "error",
     "traceback": [
      "\u001b[0;31m---------------------------------------------------------------------------\u001b[0m",
      "\u001b[0;31mNameError\u001b[0m                                 Traceback (most recent call last)",
      "\u001b[0;32m<ipython-input-2-09039fcae02b>\u001b[0m in \u001b[0;36m<module>\u001b[0;34m\u001b[0m\n\u001b[0;32m----> 1\u001b[0;31m \u001b[0moutlier_check\u001b[0m\u001b[0;34m(\u001b[0m\u001b[0;34m'trtbps'\u001b[0m\u001b[0;34m)\u001b[0m\u001b[0;34m\u001b[0m\u001b[0;34m\u001b[0m\u001b[0m\n\u001b[0m\u001b[1;32m      2\u001b[0m \u001b[0moutlier_treatment\u001b[0m\u001b[0;34m(\u001b[0m\u001b[0;34m'trtbps'\u001b[0m\u001b[0;34m,\u001b[0m \u001b[0mmin_treat\u001b[0m \u001b[0;34m=\u001b[0m \u001b[0;36m1\u001b[0m\u001b[0;34m,\u001b[0m \u001b[0mmax_treat\u001b[0m \u001b[0;34m=\u001b[0m \u001b[0;36m1\u001b[0m\u001b[0;34m)\u001b[0m\u001b[0;34m\u001b[0m\u001b[0;34m\u001b[0m\u001b[0m\n",
      "\u001b[0;31mNameError\u001b[0m: name 'outlier_check' is not defined"
     ]
    }
   ],
   "source": [
    "outlier_check('trtbps')\n",
    "outlier_treatment('trtbps', min_treat = 1, max_treat = 1)"
   ]
  },
  {
   "cell_type": "code",
   "execution_count": 3,
   "metadata": {
    "execution": {
     "iopub.execute_input": "2021-06-23T09:05:07.537564Z",
     "iopub.status.busy": "2021-06-23T09:05:07.536950Z",
     "iopub.status.idle": "2021-06-23T09:05:07.836978Z",
     "shell.execute_reply": "2021-06-23T09:05:07.837492Z",
     "shell.execute_reply.started": "2021-06-18T05:38:57.271431Z"
    },
    "papermill": {
     "duration": 0.358371,
     "end_time": "2021-06-23T09:05:07.837656",
     "exception": false,
     "start_time": "2021-06-23T09:05:07.479285",
     "status": "completed"
    },
    "tags": []
   },
   "outputs": [
    {
     "ename": "NameError",
     "evalue": "name 'outlier_check' is not defined",
     "output_type": "error",
     "traceback": [
      "\u001b[0;31m---------------------------------------------------------------------------\u001b[0m",
      "\u001b[0;31mNameError\u001b[0m                                 Traceback (most recent call last)",
      "\u001b[0;32m<ipython-input-3-953347c0be5f>\u001b[0m in \u001b[0;36m<module>\u001b[0;34m\u001b[0m\n\u001b[0;32m----> 1\u001b[0;31m \u001b[0moutlier_check\u001b[0m\u001b[0;34m(\u001b[0m\u001b[0;34m'chol'\u001b[0m\u001b[0;34m)\u001b[0m\u001b[0;34m\u001b[0m\u001b[0;34m\u001b[0m\u001b[0m\n\u001b[0m\u001b[1;32m      2\u001b[0m \u001b[0moutlier_treatment\u001b[0m\u001b[0;34m(\u001b[0m\u001b[0;34m'chol'\u001b[0m\u001b[0;34m,\u001b[0m \u001b[0mmin_treat\u001b[0m \u001b[0;34m=\u001b[0m \u001b[0;36m0\u001b[0m\u001b[0;34m,\u001b[0m \u001b[0mmax_treat\u001b[0m \u001b[0;34m=\u001b[0m \u001b[0;36m1\u001b[0m\u001b[0;34m)\u001b[0m\u001b[0;34m\u001b[0m\u001b[0;34m\u001b[0m\u001b[0m\n",
      "\u001b[0;31mNameError\u001b[0m: name 'outlier_check' is not defined"
     ]
    }
   ],
   "source": [
    "outlier_check('chol')\n",
    "outlier_treatment('chol', min_treat = 0, max_treat = 1)"
   ]
  },
  {
   "cell_type": "code",
   "execution_count": 9,
   "metadata": {
    "execution": {
     "iopub.execute_input": "2021-06-23T09:05:08.214368Z",
     "iopub.status.busy": "2021-06-23T09:05:08.203373Z",
     "iopub.status.idle": "2021-06-23T09:05:08.370978Z",
     "shell.execute_reply": "2021-06-23T09:05:08.370400Z",
     "shell.execute_reply.started": "2021-06-18T05:39:00.314888Z"
    },
    "papermill": {
     "duration": 0.248535,
     "end_time": "2021-06-23T09:05:08.371125",
     "exception": false,
     "start_time": "2021-06-23T09:05:08.122590",
     "status": "completed"
    },
    "tags": []
   },
   "outputs": [
    {
     "name": "stdout",
     "output_type": "stream",
     "text": [
      "Variable:  thalachh\n",
      "Minimum value:  71\n",
      "1st percentile:  95.02\n",
      "99th percentile:  191.96000000000004\n",
      "Maximum value:  202\n"
     ]
    },
    {
     "data": {
      "image/png": "[encoded data removed]",
      "text/plain": [
       "<Figure size 360x360 with 1 Axes>"
      ]
     },
     "metadata": {
      "needs_background": "light"
     },
     "output_type": "display_data"
    }
   ],
   "source": [
    "outlier_check('thalachh')\n",
    "outlier_treatment('thalachh', min_treat = 1, max_treat = 0)"
   ]
  },
  {
   "cell_type": "code",
   "execution_count": 10,
   "metadata": {
    "execution": {
     "iopub.execute_input": "2021-06-23T09:05:08.737455Z",
     "iopub.status.busy": "2021-06-23T09:05:08.735457Z",
     "iopub.status.idle": "2021-06-23T09:05:08.906233Z",
     "shell.execute_reply": "2021-06-23T09:05:08.906799Z",
     "shell.execute_reply.started": "2021-06-18T05:39:03.288903Z"
    },
    "papermill": {
     "duration": 0.251117,
     "end_time": "2021-06-23T09:05:08.906982",
     "exception": false,
     "start_time": "2021-06-23T09:05:08.655865",
     "status": "completed"
    },
    "tags": []
   },
   "outputs": [
    {
     "name": "stdout",
     "output_type": "stream",
     "text": [
      "Variable:  oldpeak\n",
      "Minimum value:  0.0\n",
      "1st percentile:  0.0\n",
      "99th percentile:  4.2\n",
      "Maximum value:  6.2\n"
     ]
    },
    {
     "data": {
      "image/png": "[encoded data removed]",
      "text/plain": [
       "<Figure size 360x360 with 1 Axes>"
      ]
     },
     "metadata": {
      "needs_background": "light"
     },
     "output_type": "display_data"
    }
   ],
   "source": [
    "outlier_check('oldpeak')\n",
    "outlier_treatment('oldpeak', min_treat = 0, max_treat = 1)"
   ]
  },
  {
   "cell_type": "code",
   "execution_count": 11,
   "metadata": {
    "execution": {
     "iopub.execute_input": "2021-06-23T09:05:09.288100Z",
     "iopub.status.busy": "2021-06-23T09:05:09.286167Z",
     "iopub.status.idle": "2021-06-23T09:05:09.377210Z",
     "shell.execute_reply": "2021-06-23T09:05:09.376405Z",
     "shell.execute_reply.started": "2021-06-18T05:39:09.370274Z"
    },
    "papermill": {
     "duration": 0.17455,
     "end_time": "2021-06-23T09:05:09.377369",
     "exception": false,
     "start_time": "2021-06-23T09:05:09.202819",
     "status": "completed"
    },
    "tags": []
   },
   "outputs": [
    {
     "name": "stdout",
     "output_type": "stream",
     "text": [
      "   Count  Percentage\n",
      "1    165       54.46\n",
      "0    138       45.54\n"
     ]
    },
    {
     "data": {
      "image/png": "[encoded data removed]",
      "text/plain": [
       "<Figure size 432x288 with 1 Axes>"
      ]
     },
     "metadata": {
      "needs_background": "light"
     },
     "output_type": "display_data"
    }
   ],
   "source": [
    "sns.countplot(full_data['output'])\n",
    "print(pd.concat( [full_data['output'].value_counts(),\n",
    "                  full_data['output'].value_counts(normalize=True).mul(100).round(2)],\n",
    "                 axis = 1,\n",
    "                 keys = ('Count', 'Percentage')))"
   ]
  },
  {
   "cell_type": "code",
   "execution_count": 13,
   "metadata": {
    "execution": {
     "iopub.execute_input": "2021-06-23T09:05:10.268671Z",
     "iopub.status.busy": "2021-06-23T09:05:10.267956Z",
     "iopub.status.idle": "2021-06-23T09:05:10.277256Z",
     "shell.execute_reply": "2021-06-23T09:05:10.277902Z",
     "shell.execute_reply.started": "2021-06-18T05:39:18.616125Z"
    },
    "papermill": {
     "duration": 0.084793,
     "end_time": "2021-06-23T09:05:10.278074",
     "exception": false,
     "start_time": "2021-06-23T09:05:10.193281",
     "status": "completed"
    },
    "tags": []
   },
   "outputs": [
    {
     "data": {
      "text/html": [
       "<div>\n",
       "<style scoped>\n",
       "    .dataframe tbody tr th:only-of-type {\n",
       "        vertical-align: middle;\n",
       "    }\n",
       "\n",
       "    .dataframe tbody tr th {\n",
       "        vertical-align: top;\n",
       "    }\n",
       "\n",
       "    .dataframe thead th {\n",
       "        text-align: right;\n",
       "    }\n",
       "</style>\n",
       "<table border=\"1\" class=\"dataframe\">\n",
       "  <thead>\n",
       "    <tr style=\"text-align: right;\">\n",
       "      <th></th>\n",
       "      <th>age</th>\n",
       "      <th>sex</th>\n",
       "      <th>cp</th>\n",
       "      <th>thalachh</th>\n",
       "      <th>exng</th>\n",
       "      <th>oldpeak</th>\n",
       "      <th>slp</th>\n",
       "      <th>caa</th>\n",
       "      <th>thall</th>\n",
       "      <th>output</th>\n",
       "    </tr>\n",
       "  </thead>\n",
       "  <tbody>\n",
       "    <tr>\n",
       "      <th>0</th>\n",
       "      <td>63.0</td>\n",
       "      <td>1</td>\n",
       "      <td>3</td>\n",
       "      <td>150.0</td>\n",
       "      <td>0</td>\n",
       "      <td>2.3</td>\n",
       "      <td>0</td>\n",
       "      <td>0</td>\n",
       "      <td>1</td>\n",
       "      <td>1</td>\n",
       "    </tr>\n",
       "    <tr>\n",
       "      <th>1</th>\n",
       "      <td>37.0</td>\n",
       "      <td>1</td>\n",
       "      <td>2</td>\n",
       "      <td>187.0</td>\n",
       "      <td>0</td>\n",
       "      <td>3.5</td>\n",
       "      <td>0</td>\n",
       "      <td>0</td>\n",
       "      <td>2</td>\n",
       "      <td>1</td>\n",
       "    </tr>\n",
       "    <tr>\n",
       "      <th>2</th>\n",
       "      <td>41.0</td>\n",
       "      <td>0</td>\n",
       "      <td>1</td>\n",
       "      <td>172.0</td>\n",
       "      <td>0</td>\n",
       "      <td>1.4</td>\n",
       "      <td>2</td>\n",
       "      <td>0</td>\n",
       "      <td>2</td>\n",
       "      <td>1</td>\n",
       "    </tr>\n",
       "    <tr>\n",
       "      <th>3</th>\n",
       "      <td>56.0</td>\n",
       "      <td>1</td>\n",
       "      <td>1</td>\n",
       "      <td>178.0</td>\n",
       "      <td>0</td>\n",
       "      <td>0.8</td>\n",
       "      <td>2</td>\n",
       "      <td>0</td>\n",
       "      <td>2</td>\n",
       "      <td>1</td>\n",
       "    </tr>\n",
       "    <tr>\n",
       "      <th>4</th>\n",
       "      <td>57.0</td>\n",
       "      <td>0</td>\n",
       "      <td>0</td>\n",
       "      <td>163.0</td>\n",
       "      <td>1</td>\n",
       "      <td>0.6</td>\n",
       "      <td>2</td>\n",
       "      <td>0</td>\n",
       "      <td>2</td>\n",
       "      <td>1</td>\n",
       "    </tr>\n",
       "  </tbody>\n",
       "</table>\n",
       "</div>"
      ],
      "text/plain": [
       "    age  sex  cp  thalachh  exng  oldpeak  slp  caa  thall  output\n",
       "0  63.0    1   3     150.0     0      2.3    0    0      1       1\n",
       "1  37.0    1   2     187.0     0      3.5    0    0      2       1\n",
       "2  41.0    0   1     172.0     0      1.4    2    0      2       1\n",
       "3  56.0    1   1     178.0     0      0.8    2    0      2       1\n",
       "4  57.0    0   0     163.0     1      0.6    2    0      2       1"
      ]
     },
     "execution_count": 13,
     "metadata": {},
     "output_type": "execute_result"
    }
   ],
   "source": [
    "low_corr_vars = ['restecg', 'fbs', 'chol', 'trtbps']\n",
    "full_data.drop(low_corr_vars, axis = 1, inplace = True)\n",
    "full_data.head()"
   ]
  },
  {
   "cell_type": "code",
   "execution_count": 14,
   "metadata": {
    "execution": {
     "iopub.execute_input": "2021-06-23T09:05:10.673215Z",
     "iopub.status.busy": "2021-06-23T09:05:10.672569Z",
     "iopub.status.idle": "2021-06-23T09:05:10.676118Z",
     "shell.execute_reply": "2021-06-23T09:05:10.676656Z",
     "shell.execute_reply.started": "2021-06-18T05:39:21.562026Z"
    },
    "papermill": {
     "duration": 0.085587,
     "end_time": "2021-06-23T09:05:10.676873",
     "exception": false,
     "start_time": "2021-06-23T09:05:10.591286",
     "status": "completed"
    },
    "tags": []
   },
   "outputs": [
    {
     "data": {
      "text/html": [
       "<div>\n",
       "<style scoped>\n",
       "    .dataframe tbody tr th:only-of-type {\n",
       "        vertical-align: middle;\n",
       "    }\n",
       "\n",
       "    .dataframe tbody tr th {\n",
       "        vertical-align: top;\n",
       "    }\n",
       "\n",
       "    .dataframe thead th {\n",
       "        text-align: right;\n",
       "    }\n",
       "</style>\n",
       "<table border=\"1\" class=\"dataframe\">\n",
       "  <thead>\n",
       "    <tr style=\"text-align: right;\">\n",
       "      <th></th>\n",
       "      <th>age</th>\n",
       "      <th>sex</th>\n",
       "      <th>thalachh</th>\n",
       "      <th>exng</th>\n",
       "      <th>oldpeak</th>\n",
       "      <th>slp</th>\n",
       "      <th>output</th>\n",
       "      <th>cp_1</th>\n",
       "      <th>cp_2</th>\n",
       "      <th>cp_3</th>\n",
       "      <th>caa_1</th>\n",
       "      <th>caa_2</th>\n",
       "      <th>caa_3</th>\n",
       "      <th>caa_4</th>\n",
       "      <th>thall_1</th>\n",
       "      <th>thall_2</th>\n",
       "      <th>thall_3</th>\n",
       "    </tr>\n",
       "  </thead>\n",
       "  <tbody>\n",
       "    <tr>\n",
       "      <th>0</th>\n",
       "      <td>63.0</td>\n",
       "      <td>1</td>\n",
       "      <td>150.0</td>\n",
       "      <td>0</td>\n",
       "      <td>2.3</td>\n",
       "      <td>0</td>\n",
       "      <td>1</td>\n",
       "      <td>0</td>\n",
       "      <td>0</td>\n",
       "      <td>1</td>\n",
       "      <td>0</td>\n",
       "      <td>0</td>\n",
       "      <td>0</td>\n",
       "      <td>0</td>\n",
       "      <td>1</td>\n",
       "      <td>0</td>\n",
       "      <td>0</td>\n",
       "    </tr>\n",
       "    <tr>\n",
       "      <th>1</th>\n",
       "      <td>37.0</td>\n",
       "      <td>1</td>\n",
       "      <td>187.0</td>\n",
       "      <td>0</td>\n",
       "      <td>3.5</td>\n",
       "      <td>0</td>\n",
       "      <td>1</td>\n",
       "      <td>0</td>\n",
       "      <td>1</td>\n",
       "      <td>0</td>\n",
       "      <td>0</td>\n",
       "      <td>0</td>\n",
       "      <td>0</td>\n",
       "      <td>0</td>\n",
       "      <td>0</td>\n",
       "      <td>1</td>\n",
       "      <td>0</td>\n",
       "    </tr>\n",
       "    <tr>\n",
       "      <th>2</th>\n",
       "      <td>41.0</td>\n",
       "      <td>0</td>\n",
       "      <td>172.0</td>\n",
       "      <td>0</td>\n",
       "      <td>1.4</td>\n",
       "      <td>2</td>\n",
       "      <td>1</td>\n",
       "      <td>1</td>\n",
       "      <td>0</td>\n",
       "      <td>0</td>\n",
       "      <td>0</td>\n",
       "      <td>0</td>\n",
       "      <td>0</td>\n",
       "      <td>0</td>\n",
       "      <td>0</td>\n",
       "      <td>1</td>\n",
       "      <td>0</td>\n",
       "    </tr>\n",
       "    <tr>\n",
       "      <th>3</th>\n",
       "      <td>56.0</td>\n",
       "      <td>1</td>\n",
       "      <td>178.0</td>\n",
       "      <td>0</td>\n",
       "      <td>0.8</td>\n",
       "      <td>2</td>\n",
       "      <td>1</td>\n",
       "      <td>1</td>\n",
       "      <td>0</td>\n",
       "      <td>0</td>\n",
       "      <td>0</td>\n",
       "      <td>0</td>\n",
       "      <td>0</td>\n",
       "      <td>0</td>\n",
       "      <td>0</td>\n",
       "      <td>1</td>\n",
       "      <td>0</td>\n",
       "    </tr>\n",
       "    <tr>\n",
       "      <th>4</th>\n",
       "      <td>57.0</td>\n",
       "      <td>0</td>\n",
       "      <td>163.0</td>\n",
       "      <td>1</td>\n",
       "      <td>0.6</td>\n",
       "      <td>2</td>\n",
       "      <td>1</td>\n",
       "      <td>0</td>\n",
       "      <td>0</td>\n",
       "      <td>0</td>\n",
       "      <td>0</td>\n",
       "      <td>0</td>\n",
       "      <td>0</td>\n",
       "      <td>0</td>\n",
       "      <td>0</td>\n",
       "      <td>1</td>\n",
       "      <td>0</td>\n",
       "    </tr>\n",
       "  </tbody>\n",
       "</table>\n",
       "</div>"
      ],
      "text/plain": [
       "    age  sex  thalachh  exng  oldpeak  slp  output  cp_1  cp_2  cp_3  caa_1  \\\n",
       "0  63.0    1     150.0     0      2.3    0       1     0     0     1      0   \n",
       "1  37.0    1     187.0     0      3.5    0       1     0     1     0      0   \n",
       "2  41.0    0     172.0     0      1.4    2       1     1     0     0      0   \n",
       "3  56.0    1     178.0     0      0.8    2       1     1     0     0      0   \n",
       "4  57.0    0     163.0     1      0.6    2       1     0     0     0      0   \n",
       "\n",
       "   caa_2  caa_3  caa_4  thall_1  thall_2  thall_3  \n",
       "0      0      0      0        1        0        0  \n",
       "1      0      0      0        0        1        0  \n",
       "2      0      0      0        0        1        0  \n",
       "3      0      0      0        0        1        0  \n",
       "4      0      0      0        0        1        0  "
      ]
     },
     "execution_count": 14,
     "metadata": {},
     "output_type": "execute_result"
    }
   ],
   "source": [
    "full_data =pd.get_dummies(full_data, columns = ['cp', 'caa', 'thall'], drop_first = True)\n",
    "full_data.head()"
   ]
  },
  {
   "cell_type": "code",
   "execution_count": 16,
   "metadata": {
    "execution": {
     "iopub.execute_input": "2021-06-23T09:05:12.316321Z",
     "iopub.status.busy": "2021-06-23T09:05:12.315645Z",
     "iopub.status.idle": "2021-06-23T09:05:12.332646Z",
     "shell.execute_reply": "2021-06-23T09:05:12.332222Z",
     "shell.execute_reply.started": "2021-06-18T05:39:30.39707Z"
    },
    "papermill": {
     "duration": 0.084446,
     "end_time": "2021-06-23T09:05:12.332791",
     "exception": false,
     "start_time": "2021-06-23T09:05:12.248345",
     "status": "completed"
    },
    "tags": []
   },
   "outputs": [
    {
     "data": {
      "text/html": [
       "<div>\n",
       "<style scoped>\n",
       "    .dataframe tbody tr th:only-of-type {\n",
       "        vertical-align: middle;\n",
       "    }\n",
       "\n",
       "    .dataframe tbody tr th {\n",
       "        vertical-align: top;\n",
       "    }\n",
       "\n",
       "    .dataframe thead th {\n",
       "        text-align: right;\n",
       "    }\n",
       "</style>\n",
       "<table border=\"1\" class=\"dataframe\">\n",
       "  <thead>\n",
       "    <tr style=\"text-align: right;\">\n",
       "      <th></th>\n",
       "      <th>age</th>\n",
       "      <th>sex</th>\n",
       "      <th>thalachh</th>\n",
       "      <th>exng</th>\n",
       "      <th>oldpeak</th>\n",
       "      <th>output</th>\n",
       "      <th>cp_1</th>\n",
       "      <th>cp_2</th>\n",
       "      <th>cp_3</th>\n",
       "      <th>caa_1</th>\n",
       "      <th>caa_2</th>\n",
       "      <th>caa_3</th>\n",
       "      <th>caa_4</th>\n",
       "      <th>thall_1</th>\n",
       "      <th>thall_2</th>\n",
       "      <th>thall_3</th>\n",
       "    </tr>\n",
       "  </thead>\n",
       "  <tbody>\n",
       "    <tr>\n",
       "      <th>0</th>\n",
       "      <td>63.0</td>\n",
       "      <td>1</td>\n",
       "      <td>150.0</td>\n",
       "      <td>0</td>\n",
       "      <td>2.3</td>\n",
       "      <td>1</td>\n",
       "      <td>0</td>\n",
       "      <td>0</td>\n",
       "      <td>1</td>\n",
       "      <td>0</td>\n",
       "      <td>0</td>\n",
       "      <td>0</td>\n",
       "      <td>0</td>\n",
       "      <td>1</td>\n",
       "      <td>0</td>\n",
       "      <td>0</td>\n",
       "    </tr>\n",
       "    <tr>\n",
       "      <th>1</th>\n",
       "      <td>37.0</td>\n",
       "      <td>1</td>\n",
       "      <td>187.0</td>\n",
       "      <td>0</td>\n",
       "      <td>3.5</td>\n",
       "      <td>1</td>\n",
       "      <td>0</td>\n",
       "      <td>1</td>\n",
       "      <td>0</td>\n",
       "      <td>0</td>\n",
       "      <td>0</td>\n",
       "      <td>0</td>\n",
       "      <td>0</td>\n",
       "      <td>0</td>\n",
       "      <td>1</td>\n",
       "      <td>0</td>\n",
       "    </tr>\n",
       "    <tr>\n",
       "      <th>2</th>\n",
       "      <td>41.0</td>\n",
       "      <td>0</td>\n",
       "      <td>172.0</td>\n",
       "      <td>0</td>\n",
       "      <td>1.4</td>\n",
       "      <td>1</td>\n",
       "      <td>1</td>\n",
       "      <td>0</td>\n",
       "      <td>0</td>\n",
       "      <td>0</td>\n",
       "      <td>0</td>\n",
       "      <td>0</td>\n",
       "      <td>0</td>\n",
       "      <td>0</td>\n",
       "      <td>1</td>\n",
       "      <td>0</td>\n",
       "    </tr>\n",
       "    <tr>\n",
       "      <th>3</th>\n",
       "      <td>56.0</td>\n",
       "      <td>1</td>\n",
       "      <td>178.0</td>\n",
       "      <td>0</td>\n",
       "      <td>0.8</td>\n",
       "      <td>1</td>\n",
       "      <td>1</td>\n",
       "      <td>0</td>\n",
       "      <td>0</td>\n",
       "      <td>0</td>\n",
       "      <td>0</td>\n",
       "      <td>0</td>\n",
       "      <td>0</td>\n",
       "      <td>0</td>\n",
       "      <td>1</td>\n",
       "      <td>0</td>\n",
       "    </tr>\n",
       "    <tr>\n",
       "      <th>4</th>\n",
       "      <td>57.0</td>\n",
       "      <td>0</td>\n",
       "      <td>163.0</td>\n",
       "      <td>1</td>\n",
       "      <td>0.6</td>\n",
       "      <td>1</td>\n",
       "      <td>0</td>\n",
       "      <td>0</td>\n",
       "      <td>0</td>\n",
       "      <td>0</td>\n",
       "      <td>0</td>\n",
       "      <td>0</td>\n",
       "      <td>0</td>\n",
       "      <td>0</td>\n",
       "      <td>1</td>\n",
       "      <td>0</td>\n",
       "    </tr>\n",
       "  </tbody>\n",
       "</table>\n",
       "</div>"
      ],
      "text/plain": [
       "    age  sex  thalachh  exng  oldpeak  output  cp_1  cp_2  cp_3  caa_1  caa_2  \\\n",
       "0  63.0    1     150.0     0      2.3       1     0     0     1      0      0   \n",
       "1  37.0    1     187.0     0      3.5       1     0     1     0      0      0   \n",
       "2  41.0    0     172.0     0      1.4       1     1     0     0      0      0   \n",
       "3  56.0    1     178.0     0      0.8       1     1     0     0      0      0   \n",
       "4  57.0    0     163.0     1      0.6       1     0     0     0      0      0   \n",
       "\n",
       "   caa_3  caa_4  thall_1  thall_2  thall_3  \n",
       "0      0      0        1        0        0  \n",
       "1      0      0        0        1        0  \n",
       "2      0      0        0        1        0  \n",
       "3      0      0        0        1        0  \n",
       "4      0      0        0        1        0  "
      ]
     },
     "execution_count": 16,
     "metadata": {},
     "output_type": "execute_result"
    }
   ],
   "source": [
    "full_data = full_data.drop(['slp'], axis = 1)\n",
    "full_data.head()"
   ]
  },
  {
   "cell_type": "code",
   "execution_count": 17,
   "metadata": {
    "execution": {
     "iopub.execute_input": "2021-06-23T09:05:12.612996Z",
     "iopub.status.busy": "2021-06-23T09:05:12.612245Z",
     "iopub.status.idle": "2021-06-23T09:05:12.618982Z",
     "shell.execute_reply": "2021-06-23T09:05:12.618344Z",
     "shell.execute_reply.started": "2021-06-18T05:39:32.896157Z"
    },
    "papermill": {
     "duration": 0.058279,
     "end_time": "2021-06-23T09:05:12.619122",
     "exception": false,
     "start_time": "2021-06-23T09:05:12.560843",
     "status": "completed"
    },
    "tags": []
   },
   "outputs": [
    {
     "name": "stdout",
     "output_type": "stream",
     "text": [
      "Train data records: 212 \n",
      "Test data records: 91\n"
     ]
    }
   ],
   "source": [
    "# Splitting into predictor and target variables\n",
    "x_full = full_data.drop('output', axis = 1)\n",
    "y_full = full_data['output']\n",
    "\n",
    "# Train test split\n",
    "x_train, x_test, y_train, y_test = train_test_split(x_full, y_full, test_size = 0.3, random_state = 1)\n",
    "\n",
    "print('Train data records: %d \\nTest data records: %d' % (x_train.shape[0], x_test.shape[0]))"
   ]
  },
  {
   "cell_type": "code",
   "execution_count": 18,
   "metadata": {
    "execution": {
     "iopub.execute_input": "2021-06-23T09:05:12.899843Z",
     "iopub.status.busy": "2021-06-23T09:05:12.893934Z",
     "iopub.status.idle": "2021-06-23T09:05:13.061045Z",
     "shell.execute_reply": "2021-06-23T09:05:13.060524Z",
     "shell.execute_reply.started": "2021-06-18T05:39:36.520964Z"
    },
    "papermill": {
     "duration": 0.221468,
     "end_time": "2021-06-23T09:05:13.061154",
     "exception": false,
     "start_time": "2021-06-23T09:05:12.839686",
     "status": "completed"
    },
    "tags": []
   },
   "outputs": [
    {
     "name": "stdout",
     "output_type": "stream",
     "text": [
      "                 Model  Train_Accuracy  Test_Accuracy\n",
      "0  Logistic Regression           86.79          81.32\n"
     ]
    },
    {
     "data": {
      "image/png": "[encoded data removed]",
      "text/plain": [
       "<Figure size 432x288 with 1 Axes>"
      ]
     },
     "metadata": {
      "needs_background": "light"
     },
     "output_type": "display_data"
    }
   ],
   "source": [
    "logistic_model =LogisticRegression(max_iter = 1000)\n",
    "logistic_model.fit(x_train, y_train)\n",
    "train_predictions = logistic_model.predict(x_train)\n",
    "test_predictions = logistic_model.predict(x_test)\n",
    "model_performance = pd.DataFrame([[ 'Logistic Regression', \n",
    "                                    round(accuracy_score(y_train, train_predictions)*100,2),\n",
    "                                    round(accuracy_score(y_test, test_predictions)*100,2)]],\n",
    "                                   columns = ['Model', 'Train_Accuracy', 'Test_Accuracy'])\n",
    "print(model_performance)\n",
    "\n",
    "# Plotting the ROC Curve\n",
    "fpr,tpr,threshols=roc_curve(y_test,logistic_model.predict_proba(x_test)[:,1])\n",
    "plt.plot([0,1],[0,1],\"k--\",'r+')\n",
    "plt.plot(fpr,tpr,label=\"Logistic Regression\")\n",
    "plt.xlabel(\"False Positive Rate\")\n",
    "plt.ylabel(\"True Positive Rate\")\n",
    "plt.title(\"Logistric Regression ROC Curve\")\n",
    "plt.show()                                        "
   ]
  }
 ],
 "metadata": {
  "kernelspec": {
   "display_name": "Python 3",
   "language": "python",
   "name": "python3"
  },
  "language_info": {
   "codemirror_mode": {
    "name": "ipython",
    "version": 3
   },
   "file_extension": ".py",
   "mimetype": "text/x-python",
   "name": "python",
   "nbconvert_exporter": "python",
   "pygments_lexer": "ipython3",
   "version": "3.8.3"
  },
  "papermill": {
   "default_parameters": {},
   "duration": 24.085136,
   "end_time": "2021-06-23T09:05:19.571372",
   "environment_variables": {},
   "exception": null,
   "input_path": "__notebook__.ipynb",
   "output_path": "__notebook__.ipynb",
   "parameters": {},
   "start_time": "2021-06-23T09:04:55.486236",
   "version": "2.3.3"
  }
 },
 "nbformat": 4,
 "nbformat_minor": 5
}
